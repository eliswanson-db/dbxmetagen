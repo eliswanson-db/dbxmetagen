{
 "cells": [
  {
   "cell_type": "code",
   "execution_count": 0,
   "metadata": {
    "application/vnd.databricks.v1+cell": {
     "cellMetadata": {
      "byteLimit": 2048000,
      "rowLimit": 10000
     },
     "inputWidgets": {},
     "nuid": "530c145d-2071-46d0-9a1b-645a1caa9e7a",
     "showTitle": false,
     "tableResultSettingsMap": {},
     "title": ""
    }
   },
   "outputs": [],
   "source": [
    "dbutils.widgets.dropdown(\"mode\", \"pi\", [\"pi\", \"comment\"])\n",
    "mode = dbutils.widgets.get(\"mode\")"
   ]
  },
  {
   "cell_type": "code",
   "execution_count": 0,
   "metadata": {
    "application/vnd.databricks.v1+cell": {
     "cellMetadata": {
      "byteLimit": 2048000,
      "rowLimit": 10000
     },
     "inputWidgets": {},
     "nuid": "820f43f4-e480-46ee-a955-4a740dabd435",
     "showTitle": false,
     "tableResultSettingsMap": {},
     "title": ""
    }
   },
   "outputs": [],
   "source": [
    "from pyspark.sql.functions import col, row_number\n",
    "from pyspark.sql.window import Window\n",
    "\n",
    "def filter_to_most_recent(df):\n",
    "    window_spec = Window.partitionBy(\"table\", \"column_name\").orderBy(col(\"_created_at\").desc())\n",
    "    df_with_row_num = df.withColumn(\"row_num\", row_number().over(window_spec))\n",
    "    return df_with_row_num.filter(col(\"row_num\") == 1).drop(\"row_num\")\n",
    "\n",
    "def run_pi_tests():\n",
    "    df = spark.table(\"dbxmetagen.metadata_results.pi_metadata_generation_log\")\n",
    "    df = filter_to_most_recent(df)\n",
    "    display(df)\n",
    "    \n",
    "    distinct_tables = df.select(\"table\").distinct().count()\n",
    "    assert distinct_tables == 3, f\"Expected 3 distinct tables, but found {distinct_tables}\"\n",
    "    \n",
    "    ddl_types = df.select(\"ddl_type\").distinct().collect()\n",
    "    ddl_types = [row[\"ddl_type\"] for row in ddl_types]\n",
    "    assert \"column\" in ddl_types and \"table\" in ddl_types, \"ddl_type column does not contain both 'column' and 'table' values\"\n",
    "    \n",
    "    column_classifications = df.filter(col(\"ddl_type\") == \"column\").select(\"classification\").distinct().collect()\n",
    "    column_classifications = [row[\"classification\"] for row in column_classifications]\n",
    "    assert all(c in [\"None\", \"pi\"] for c in column_classifications), f\"Invalid classification values for columns: {column_classifications}\"\n",
    "    \n",
    "    table_classifications = df.filter(col(\"ddl_type\") == \"table\").select(\"classification\").distinct().collect()\n",
    "    table_classifications = [row[\"classification\"] for row in table_classifications]\n",
    "    valid_table_classifications = [\"pii\", \"pci\", \"phi\", \"medical_information\", \"None\"]\n",
    "    assert all(c in valid_table_classifications for c in table_classifications), f\"Invalid classification values for tables: {table_classifications}\"\n",
    "\n",
    "    test_manual_override(\"pi\", df)\n",
    "\n",
    "def run_comment_tests():\n",
    "    df = spark.table(\"dbxmetagen.metadata_results.comment_metadata_generation_log\")\n",
    "    df = filter_to_most_recent(df)\n",
    "    display(df)\n",
    "    \n",
    "    distinct_tables = df.select(\"table\").distinct().count()\n",
    "    assert distinct_tables == 3, f\"Expected 3 distinct tables, but found {distinct_tables}\"\n",
    "    \n",
    "    ddl_types = df.select(\"ddl_type\").distinct().collect()\n",
    "    ddl_types = [row[\"ddl_type\"] for row in ddl_types]\n",
    "    assert \"column\" in ddl_types and \"table\" in ddl_types, \"ddl_type column does not contain both 'column' and 'table' values\"\n",
    "\n",
    "    test_manual_override(\"comment\", df)\n",
    "\n",
    "def test_manual_override(mode, df):\n",
    "    allow_manual_override = True\n",
    "    if allow_manual_override and mode == \"comment\":\n",
    "        healthcare_test_df = df\n",
    "        room_number_metadata = healthcare_test_df.filter((col(\"column_name\") == \"room_number\") & (col(\"table\") == \"dbxmetagen.default.healthcare_test\")).collect()[0]\n",
    "        room_number_comment = room_number_metadata[\"column_content\"]\n",
    "        assert room_number_comment == \"Hospital room number - TEST OVERRIDE\", f\"Expected comment 'Hospital room number - TEST OVERRIDE', but found '{room_number_comment}'\"\n",
    "    elif allow_manual_override and mode == \"pi\":        \n",
    "        pi_metadata_df = df\n",
    "        room_number_metadata = pi_metadata_df.filter((col(\"table\") == \"dbxmetagen.default.healthcare_test\") & (col(\"column\") == \"room_number\")).collect()[0]\n",
    "        \n",
    "        assert room_number_metadata[\"classification\"] == \"pi\", f\"Expected classification 'pi', but found '{room_number_metadata['classification']}'\"\n",
    "        assert room_number_metadata[\"type\"] == \"pii\", f\"Expected type 'pii', but found '{room_number_metadata['type']}'\"\n",
    "    else:\n",
    "        raise Exception(\"Invalid mode provided\")\n",
    "\n",
    "if mode == \"pi\":\n",
    "    run_pi_tests()\n",
    "elif mode == \"comment\":\n",
    "    run_comment_tests()\n",
    "\n",
    "print(\"All tests passed!\")"
   ]
  },
  {
   "cell_type": "code",
   "execution_count": 0,
   "metadata": {
    "application/vnd.databricks.v1+cell": {
     "cellMetadata": {
      "byteLimit": 2048000,
      "rowLimit": 10000
     },
     "inputWidgets": {},
     "nuid": "2eb91396-b17e-45e0-9be5-b739b1a7fa7c",
     "showTitle": false,
     "tableResultSettingsMap": {},
     "title": ""
    }
   },
   "outputs": [],
   "source": []
  }
 ],
 "metadata": {
  "application/vnd.databricks.v1+notebook": {
   "computePreferences": null,
   "dashboards": [],
   "environmentMetadata": {
    "base_environment": "",
    "client": "1"
   },
   "language": "python",
   "notebookMetadata": {
    "pythonIndentUnit": 4
   },
   "notebookName": "integration_tests",
   "widgets": {
    "mode": {
     "currentValue": "comment",
     "nuid": "c24f5397-a0cf-40e1-8b17-e2377d8a1472",
     "typedWidgetInfo": {
      "autoCreated": false,
      "defaultValue": "pi",
      "label": null,
      "name": "mode",
      "options": {
       "widgetDisplayType": "Dropdown",
       "choices": [
        "pi",
        "comment"
       ],
       "fixedDomain": true,
       "multiselect": false
      },
      "parameterDataType": "String"
     },
     "widgetInfo": {
      "widgetType": "dropdown",
      "defaultValue": "pi",
      "label": null,
      "name": "mode",
      "options": {
       "widgetType": "dropdown",
       "autoCreated": null,
       "choices": [
        "pi",
        "comment"
       ]
      }
     }
    }
   }
  },
  "language_info": {
   "name": "python"
  }
 },
 "nbformat": 4,
 "nbformat_minor": 0
}

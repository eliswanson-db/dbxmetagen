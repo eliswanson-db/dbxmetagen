{
 "cells": [
  {
   "cell_type": "code",
   "execution_count": 0,
   "metadata": {
    "application/vnd.databricks.v1+cell": {
     "cellMetadata": {
      "byteLimit": 2048000,
      "rowLimit": 10000
     },
     "inputWidgets": {},
     "nuid": "d13cb2d8-af06-466e-8f0d-2c91775fc024",
     "showTitle": false,
     "tableResultSettingsMap": {},
     "title": ""
    }
   },
   "outputs": [],
   "source": [
    "\"\"\"Creates three tables for testing dbxmetagen. \n",
    "\n",
    "These are the tables used in the base code.\n",
    "\n",
    "These tables can be used to test a deployment, or play around with dbxmetagen.\n",
    "\n",
    "The catalog name here has to be updated manually, it doesn't use the config yet.\n",
    "\"\"\""
   ]
  },
  {
   "cell_type": "code",
   "execution_count": 0,
   "metadata": {
    "application/vnd.databricks.v1+cell": {
     "cellMetadata": {
      "byteLimit": 2048000,
      "rowLimit": 10000
     },
     "inputWidgets": {},
     "nuid": "7e63c9f2-4030-4ffb-8c05-45551aaa56bf",
     "showTitle": false,
     "tableResultSettingsMap": {},
     "title": ""
    }
   },
   "outputs": [],
   "source": [
    "dbutils.widgets.text(\"target_catalog_name\", \"eswanson\")\n",
    "dbutils.widgets.text(\"target_schema_name\", \"default\")\n",
    "target_catalog_name = dbutils.widgets.get(\"target_catalog_name\")\n",
    "target_schema_name = dbutils.widgets.get(\"target_schema_name\")"
   ]
  },
  {
   "cell_type": "code",
   "execution_count": 0,
   "metadata": {
    "application/vnd.databricks.v1+cell": {
     "cellMetadata": {
      "byteLimit": 2048000,
      "rowLimit": 10000
     },
     "inputWidgets": {},
     "nuid": "e3bcf215-0fdd-4479-9226-b1c69bb0f6fe",
     "showTitle": false,
     "tableResultSettingsMap": {},
     "title": ""
    }
   },
   "outputs": [],
   "source": [
    "from pyspark.sql import SparkSession\n",
    "from pyspark.sql.types import StructType, StructField, StringType, IntegerType, DateType\n",
    "from pyspark.sql import Row\n",
    "import datetime"
   ]
  },
  {
   "cell_type": "code",
   "execution_count": 0,
   "metadata": {
    "application/vnd.databricks.v1+cell": {
     "cellMetadata": {
      "byteLimit": 2048000,
      "rowLimit": 10000
     },
     "inputWidgets": {},
     "nuid": "7fc730e0-abb4-467f-8fe5-f5f2050a111d",
     "showTitle": false,
     "tableResultSettingsMap": {},
     "title": ""
    }
   },
   "outputs": [],
   "source": [
    "class DeltaTableGenerator:\n",
    "    def __init__(self, spark: SparkSession, target_catalog_name: str, target_schema_name: str):\n",
    "        self.spark = spark\n",
    "        self.target_catalog_name = target_catalog_name\n",
    "        self.target_schema_name = target_schema_name\n",
    "\n",
    "    def create_simple_test_table(self):\n",
    "        data = [\n",
    "            Row(id=1, name=\"Alice\", favorite_color=\"Red\"),\n",
    "            Row(id=2, name=\"Bob\", favorite_color=\"Blue\"),\n",
    "            Row(id=3, name=\"Charlie\", favorite_color=\"Green\"),\n",
    "            Row(id=4, name=\"David\", favorite_color=\"Yellow\")\n",
    "        ]\n",
    "        schema = StructType([\n",
    "            StructField(\"id\", IntegerType(), False),\n",
    "            StructField(\"name\", StringType(), False),\n",
    "            StructField(\"favorite_color\", StringType(), False)\n",
    "        ])\n",
    "        df = self.spark.createDataFrame(data, schema)\n",
    "        df.write.format(\"delta\").mode(\"overwrite\").saveAsTable(f\"{target_catalog_name}.{target_schema_name}.simple_test\")\n",
    "\n",
    "\n",
    "    def create_metadata_test_table(self):\n",
    "        data = [\n",
    "            Row(id=1, name=\"Alice\", favorite_color=\"Red\"),\n",
    "            Row(id=2, name=\"Bob\", favorite_color=\"Blue\"),\n",
    "            Row(id=3, name=\"Charlie\", favorite_color=\"Green\"),\n",
    "            Row(id=4, name=\"David\", favorite_color=\"Yellow\")\n",
    "        ]\n",
    "        schema = StructType([\n",
    "            StructField(\"id\", IntegerType(), False),\n",
    "            StructField(\"name\", StringType(), False),\n",
    "            StructField(\"favorite_color\", StringType(), False)\n",
    "        ])\n",
    "        df = self.spark.createDataFrame(data, schema)\n",
    "        df.write.format(\"delta\").mode(\"overwrite\").saveAsTable(f\"{target_catalog_name}.{target_schema_name}.metadata_test\")\n",
    "        spark.sql(f\"ANALYZE TABLE {target_catalog_name}.{target_schema_name}.metadata_test COMPUTE STATISTICS FOR ALL COLUMNS;\")\n",
    "\n",
    "    def create_finance_test_table(self):\n",
    "        data = [\n",
    "            Row(customer_id=1, credit_card_number=\"1234-5678-9012-3456\", ssn=\"123-45-6789\", full_name=\"Alice Smith\", last_updated=datetime.date(2023, 1, 1)),\n",
    "            Row(customer_id=2, credit_card_number=\"2345-6789-0123-4567\", ssn=\"234-56-7890\", full_name=\"Bob Johnson\", last_updated=datetime.date(2023, 2, 1)),\n",
    "            Row(customer_id=3, credit_card_number=\"3456-7890-1234-5678\", ssn=\"345-67-8901\", full_name=\"Charlie Brown\", last_updated=datetime.date(2023, 3, 1)),\n",
    "            Row(customer_id=4, credit_card_number=\"4567-8901-2345-6789\", ssn=\"456-78-9012\", full_name=\"David Wilson\", last_updated=datetime.date(2023, 4, 1)),\n",
    "            Row(customer_id=5, credit_card_number=\"5678-9012-3456-7890\", ssn=\"567-89-0123\", full_name=\"Eve Davis\", last_updated=datetime.date(2023, 5, 1)),\n",
    "            Row(customer_id=6, credit_card_number=\"6789-0123-4567-8901\", ssn=\"678-90-1234\", full_name=\"Frank Miller\", last_updated=datetime.date(2023, 6, 1)),\n",
    "            Row(customer_id=7, credit_card_number=\"7890-1234-5678-9012\", ssn=\"789-01-2345\", full_name=\"Grace Lee\", last_updated=datetime.date(2023, 7, 1)),\n",
    "            Row(customer_id=8, credit_card_number=\"8901-2345-6789-0123\", ssn=\"890-12-3456\", full_name=\"Hank Green\", last_updated=datetime.date(2023, 8, 1)),\n",
    "            Row(customer_id=9, credit_card_number=\"9012-3456-7890-1234\", ssn=\"901-23-4567\", full_name=\"Ivy White\", last_updated=datetime.date(2023, 9, 1))\n",
    "        ]\n",
    "        schema = StructType([\n",
    "            StructField(\"customer_id\", IntegerType(), False),\n",
    "            StructField(\"credit_card_number\", StringType(), False),\n",
    "            StructField(\"ssn\", StringType(), False),\n",
    "            StructField(\"full_name\", StringType(), False),\n",
    "            StructField(\"last_updated\", DateType(), False)\n",
    "        ])\n",
    "        df = self.spark.createDataFrame(data, schema)\n",
    "        df.write.format(\"delta\").mode(\"overwrite\").saveAsTable(f\"{target_catalog_name}.{target_schema_name}.finance_test\")\n",
    "\n",
    "    def create_healthcare_details_table(self):\n",
    "        data = [\n",
    "            Row(patient_id=1, patient_name=\"Alice Smith\", medical_history=\"Diabetes\", treatment_plan=\"Insulin\", diagnosis=\"Type 1 Diabetes\", room_number=\"101\", appointment_date=datetime.date(2023, 1, 1)),\n",
    "            Row(patient_id=2, patient_name=\"Bob Johnson\", medical_history=\"Hypertension\", treatment_plan=\"Beta Blockers\", diagnosis=\"High Blood Pressure\", room_number=\"102\", appointment_date=datetime.date(2023, 2, 1)),\n",
    "            Row(patient_id=3, patient_name=\"Charlie Brown\", medical_history=\"Asthma\", treatment_plan=\"Inhaler\", diagnosis=\"Chronic Asthma\", room_number=\"103\", appointment_date=datetime.date(2023, 3, 1)),\n",
    "            Row(patient_id=4, patient_name=\"David Wilson\", medical_history=\"Cancer\", treatment_plan=\"Chemotherapy\", diagnosis=\"Lung Cancer\", room_number=\"104\", appointment_date=datetime.date(2023, 4, 1)),\n",
    "            Row(patient_id=5, patient_name=\"Eve Davis\", medical_history=\"Stroke\", treatment_plan=\"Rehabilitation\", diagnosis=\"Ischemic Stroke\", room_number=\"105\", appointment_date=datetime.date(2023, 5, 1)),\n",
    "            Row(patient_id=6, patient_name=\"Frank Miller\", medical_history=\"Diabetes\", treatment_plan=\"Metformin\", diagnosis=\"Type 2 Diabetes\", room_number=\"106\", appointment_date=datetime.date(2023, 6, 1)),\n",
    "            Row(patient_id=7, patient_name=\"Grace Lee\", medical_history=\"Hypertension\", treatment_plan=\"ACE Inhibitors\", diagnosis=\"High Blood Pressure\", room_number=\"107\", appointment_date=datetime.date(2023, 7, 1)),\n",
    "            Row(patient_id=8, patient_name=\"Hank Green\", medical_history=\"Asthma\", treatment_plan=\"Steroids\", diagnosis=\"Severe Asthma\", room_number=\"108\", appointment_date=datetime.date(2023, 8, 1)),\n",
    "            Row(patient_id=9, patient_name=\"Ivy White\", medical_history=\"Cancer\", treatment_plan=\"Radiation\", diagnosis=\"Breast Cancer\", room_number=\"109\", appointment_date=datetime.date(2023, 9, 1)),\n",
    "            Row(patient_id=10, patient_name=\"Jack Black\", medical_history=\"Stroke\", treatment_plan=\"Anticoagulants\", diagnosis=\"Hemorrhagic Stroke\", room_number=\"110\", appointment_date=datetime.date(2023, 10, 1)),\n",
    "            Row(patient_id=11, patient_name=\"Karen Brown\", medical_history=\"Diabetes\", treatment_plan=\"Diet Control\", diagnosis=\"Gestational Diabetes\", room_number=\"111\", appointment_date=datetime.date(2023, 11, 1))\n",
    "        ]\n",
    "        schema = StructType([\n",
    "            StructField(\"patient_id\", IntegerType(), False),\n",
    "            StructField(\"patient_name\", StringType(), False),\n",
    "            StructField(\"medical_history\", StringType(), False),\n",
    "            StructField(\"treatment_plan\", StringType(), False),\n",
    "            StructField(\"diagnosis\", StringType(), False),\n",
    "            StructField(\"room_number\", StringType(), False),\n",
    "            StructField(\"appointment_date\", DateType(), False)\n",
    "        ])\n",
    "        df = self.spark.createDataFrame(data, schema)\n",
    "        df.write.format(\"delta\").mode(\"overwrite\").saveAsTable(f\"{target_catalog_name}.{target_schema_name}.healthcare_test\")\n",
    "\n",
    "    def create_doctor_notes_table(self):\n",
    "        data = [\n",
    "            Row(id=1, name=\"Alice Smith\", \n",
    "                notes=\"Patient has a mild fever.\", \n",
    "                notes_2=\"Alice Smith, born on 01/01/1980, has a mild fever.\"),\n",
    "            Row(id=2, name=\"Bob Johnson\", \n",
    "                notes=\"Patient reports feeling dizzy and nauseous. Symptoms started two days ago after eating at a new restaurant. No other significant medical history reported. Patient denies any recent travel or contact with sick individuals. Recommending hydration and rest.\", \n",
    "                notes_2=\"Bob Johnson, SSN 123-45-6789, reports feeling dizzy and nauseous. Symptoms started two days ago after eating at a new restaurant. No other significant medical history reported. Patient denies any recent travel or contact with sick individuals. Recommending hydration and rest.\"),\n",
    "            Row(id=3, name=\"Charlie Brown\", \n",
    "                notes=\"Patient presents with a persistent cough and shortness of breath. Symptoms have been ongoing for the past three weeks. Patient has a history of asthma and has been using an inhaler with limited relief. Recent chest X-ray shows no signs of pneumonia. Blood tests indicate elevated white blood cell count. Recommending a course of antibiotics and follow-up in one week. Patient presents with a persistent cough and shortness of breath. Symptoms have been ongoing for the past three weeks. Patient has a history of asthma and has been using an inhaler with limited relief. Recent chest X-ray shows no signs of pneumonia. Blood tests indicate elevated white blood cell count. Recommending a course of antibiotics and follow-up in one week. Patient presents with a persistent cough and shortness of breath. Symptoms have been ongoing for the past three weeks. Patient has a history of asthma and has been using an inhaler with limited relief. Recent chest X-ray shows no signs of pneumonia. Blood tests indicate elevated white blood cell count. Recommending a course of antibiotics and follow-up in one week.\", \n",
    "                notes_2=\"Charlie Brown, DOB 02/02/1990, presents with a persistent cough and shortness of breath. Symptoms have been ongoing for the past three weeks. Patient has a history of asthma and has been using an inhaler with limited relief. Recent chest X-ray shows no signs of pneumonia. Blood tests indicate elevated white blood cell count. Recommending a course of antibiotics and follow-up in one week. Charlie Brown, DOB 02/02/1990, presents with a persistent cough and shortness of breath. Symptoms have been ongoing for the past three weeks. Patient has a history of asthma and has been using an inhaler with limited relief. Recent chest X-ray shows no signs of pneumonia. Blood tests indicate elevated white blood cell count. Recommending a course of antibiotics and follow-up in one week. Charlie Brown, DOB 02/02/1990, presents with a persistent cough and shortness of breath. Symptoms have been ongoing for the past three weeks. Patient has a history of asthma and has been using an inhaler with limited relief. Recent chest X-ray shows no signs of pneumonia. Blood tests indicate elevated white blood cell count. Recommending a course of antibiotics and follow-up in one week.\")\n",
    "        ]\n",
    "        schema = StructType([\n",
    "            StructField(\"id\", IntegerType(), False),\n",
    "            StructField(\"name\", StringType(), False),\n",
    "            StructField(\"notes\", StringType(), False),\n",
    "            StructField(\"notes_2\", StringType(), False)\n",
    "        ])\n",
    "        df = self.spark.createDataFrame(data, schema)\n",
    "        df.write.format(\"delta\").mode(\"overwrite\").saveAsTable(f\"{self.target_catalog_name}.{self.target_schema_name}.doctor_notes\")"
   ]
  },
  {
   "cell_type": "code",
   "execution_count": 0,
   "metadata": {
    "application/vnd.databricks.v1+cell": {
     "cellMetadata": {
      "byteLimit": 2048000,
      "rowLimit": 10000
     },
     "inputWidgets": {},
     "nuid": "4ceba4b5-50b0-40ac-a925-8db6f14dbf3f",
     "showTitle": false,
     "tableResultSettingsMap": {},
     "title": ""
    }
   },
   "outputs": [],
   "source": [
    "spark.sql(f\"CREATE SCHEMA IF NOT EXISTS {target_catalog_name}.{target_schema_name};\")\n",
    "generator = DeltaTableGenerator(spark, target_catalog_name, target_schema_name)\n",
    "generator.create_simple_test_table()\n",
    "generator.create_metadata_test_table()\n",
    "generator.create_finance_test_table()\n",
    "generator.create_doctor_notes_table()\n",
    "generator.create_healthcare_details_table()"
   ]
  },
  {
   "cell_type": "code",
   "execution_count": 0,
   "metadata": {
    "application/vnd.databricks.v1+cell": {
     "cellMetadata": {
      "byteLimit": 2048000,
      "rowLimit": 10000
     },
     "inputWidgets": {},
     "nuid": "23531f71-ba3b-4268-869f-30f0aa553ece",
     "showTitle": false,
     "tableResultSettingsMap": {},
     "title": ""
    }
   },
   "outputs": [],
   "source": []
  }
 ],
 "metadata": {
  "application/vnd.databricks.v1+notebook": {
   "computePreferences": null,
   "dashboards": [],
   "environmentMetadata": {
    "base_environment": "",
    "client": "1"
   },
   "language": "python",
   "notebookMetadata": {
    "pythonIndentUnit": 2
   },
   "notebookName": "setup_test_tables",
   "widgets": {
    "target_catalog_name": {
     "currentValue": "eswanson",
     "nuid": "be9d1e3e-0040-4e68-9d8f-51ce0965384a",
     "typedWidgetInfo": {
      "autoCreated": false,
      "defaultValue": "eswanson",
      "label": null,
      "name": "target_catalog_name",
      "options": {
       "widgetDisplayType": "Text",
       "validationRegex": null
      },
      "parameterDataType": "String"
     },
     "widgetInfo": {
      "widgetType": "text",
      "defaultValue": "eswanson",
      "label": null,
      "name": "target_catalog_name",
      "options": {
       "widgetType": "text",
       "autoCreated": null,
       "validationRegex": null
      }
     }
    },
    "target_schema_name": {
     "currentValue": "default",
     "nuid": "a92f19ad-4c3b-4421-b65c-a7ab68f69d14",
     "typedWidgetInfo": {
      "autoCreated": false,
      "defaultValue": "default",
      "label": null,
      "name": "target_schema_name",
      "options": {
       "widgetDisplayType": "Text",
       "validationRegex": null
      },
      "parameterDataType": "String"
     },
     "widgetInfo": {
      "widgetType": "text",
      "defaultValue": "default",
      "label": null,
      "name": "target_schema_name",
      "options": {
       "widgetType": "text",
       "autoCreated": null,
       "validationRegex": null
      }
     }
    }
   }
  },
  "language_info": {
   "name": "python"
  }
 },
 "nbformat": 4,
 "nbformat_minor": 0
}

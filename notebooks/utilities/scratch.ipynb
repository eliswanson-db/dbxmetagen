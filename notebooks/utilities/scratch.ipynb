{
 "cells": [
  {
   "cell_type": "code",
   "execution_count": 0,
   "metadata": {
    "application/vnd.databricks.v1+cell": {
     "cellMetadata": {
      "byteLimit": 2048000,
      "rowLimit": 10000
     },
     "inputWidgets": {},
     "nuid": "82075334-c231-44ce-ba66-49c885932571",
     "showTitle": false,
     "tableResultSettingsMap": {},
     "title": ""
    }
   },
   "outputs": [],
   "source": [
    "%pip install -r ../../requirements.txt"
   ]
  },
  {
   "cell_type": "code",
   "execution_count": 0,
   "metadata": {
    "application/vnd.databricks.v1+cell": {
     "cellMetadata": {
      "byteLimit": 2048000,
      "rowLimit": 10000
     },
     "inputWidgets": {},
     "nuid": "5081a040-e5e4-45fa-b34f-9fdb273ff5a2",
     "showTitle": false,
     "tableResultSettingsMap": {},
     "title": ""
    }
   },
   "outputs": [],
   "source": [
    "catalog_name = 'dbxmetagen'\n",
    "schema_name = 'default'\n",
    "table_name = 'healthcare_test'\n",
    "\n",
    "spark.sql(f\"\"\"\n",
    "SELECT t.constraint_catalog, \n",
    "t.constraint_schema, \n",
    "c.table_name, \n",
    "c.constraint_name, \n",
    "t.constraint_type, \n",
    "c.column_name\n",
    "FROM system.information_schema.table_constraints t\n",
    "LEFT JOIN system.information_schema.constraint_column_usage c\n",
    "        ON t.constraint_catalog = c.constraint_catalog \n",
    "        AND t.constraint_schema = c.constraint_schema \n",
    "        AND t.constraint_name = c.constraint_name\n",
    "WHERE t.constraint_catalog = '{catalog_name}'\n",
    "AND t.constraint_schema = '{schema_name}'\n",
    "AND t.table_name = '{table_name}';\n",
    "\"\"\").display()"
   ]
  },
  {
   "cell_type": "code",
   "execution_count": 0,
   "metadata": {
    "application/vnd.databricks.v1+cell": {
     "cellMetadata": {
      "byteLimit": 2048000,
      "implicitDf": true,
      "rowLimit": 10000
     },
     "inputWidgets": {},
     "nuid": "f8288db2-e5e9-4491-a5d6-b374751c59e7",
     "showTitle": false,
     "tableResultSettingsMap": {},
     "title": ""
    }
   },
   "outputs": [],
   "source": [
    "%sql\n",
    "SELECT * FROM dbxmetagen.metadata_results.pi_metadata_generation_log ORDER BY _created_at DESC;"
   ]
  },
  {
   "cell_type": "code",
   "execution_count": 0,
   "metadata": {
    "application/vnd.databricks.v1+cell": {
     "cellMetadata": {
      "byteLimit": 2048000,
      "implicitDf": true,
      "rowLimit": 10000
     },
     "inputWidgets": {},
     "nuid": "e8b26a01-85e7-4a5c-91e0-8b4cd8f3590e",
     "showTitle": false,
     "tableResultSettingsMap": {},
     "title": ""
    }
   },
   "outputs": [],
   "source": [
    "%sql\n",
    "SELECT * FROM dbxmetagen.metadata_results.table_processing_log ORDER BY `_updated_at` DESC;"
   ]
  },
  {
   "cell_type": "code",
   "execution_count": 0,
   "metadata": {
    "application/vnd.databricks.v1+cell": {
     "cellMetadata": {
      "byteLimit": 2048000,
      "rowLimit": 10000
     },
     "inputWidgets": {},
     "nuid": "cf1b3b56-9237-4086-8977-0191bca57699",
     "showTitle": false,
     "tableResultSettingsMap": {},
     "title": ""
    }
   },
   "outputs": [],
   "source": [
    "# Create the Delta table with room_number as a primary key\n",
    "spark.sql(\"\"\"\n",
    "CREATE OR REPLACE TABLE dbxmetagen.default.rooms (\n",
    "    room_number STRING,\n",
    "    room_name STRING,\n",
    "    capacity INT,\n",
    "    PRIMARY KEY (room_number)\n",
    ") USING DELTA\n",
    "\"\"\")\n",
    "\n",
    "# Insert 3 rows into the rooms table\n",
    "spark.sql(\"\"\"\n",
    "INSERT INTO dbxmetagen.default.rooms (room_number, room_name, capacity) VALUES\n",
    "('101A', 'Room A', 2),\n",
    "('102', 'Room B', 4),\n",
    "('103', 'Room C', 3)\n",
    "\"\"\")\n",
    "\n",
    "# First, alter the column to be non-nullable\n",
    "try:\n",
    "    spark.sql(\"\"\"\n",
    "    ALTER TABLE dbxmetagen.default.healthcare_test\n",
    "    ALTER COLUMN patient_id SET NOT NULL\n",
    "    \"\"\")\n",
    "\n",
    "    # Then, add the primary key constraint\n",
    "    spark.sql(\"\"\"\n",
    "    ALTER TABLE dbxmetagen.default.healthcare_test\n",
    "    ADD CONSTRAINT patient_pk PRIMARY KEY (patient_id)\n",
    "    \"\"\")\n",
    "except: \n",
    "    print(\"already added or didnt work\")\n",
    "\n",
    "# Finally, add the foreign key constraint\n",
    "spark.sql(\"\"\"\n",
    "ALTER TABLE dbxmetagen.default.healthcare_test\n",
    "ADD CONSTRAINT room_number_fk\n",
    "FOREIGN KEY (room_number) REFERENCES dbxmetagen.default.rooms\n",
    "\"\"\")"
   ]
  },
  {
   "cell_type": "code",
   "execution_count": 0,
   "metadata": {
    "application/vnd.databricks.v1+cell": {
     "cellMetadata": {
      "byteLimit": 2048000,
      "rowLimit": 10000
     },
     "inputWidgets": {},
     "nuid": "2f00708d-c58e-4962-bbbb-7846d615850b",
     "showTitle": false,
     "tableResultSettingsMap": {},
     "title": ""
    }
   },
   "outputs": [],
   "source": [
    "from src.dbxmetagen.deterministic_pi import detect_pi\n",
    "from presidio_analyzer import AnalyzerEngine\n",
    "\n",
    "analyzer = AnalyzerEngine()\n",
    "all_entities = analyzer.get_supported_entities(language=\"en\")\n",
    "print(all_entities)"
   ]
  },
  {
   "cell_type": "code",
   "execution_count": 0,
   "metadata": {
    "application/vnd.databricks.v1+cell": {
     "cellMetadata": {},
     "inputWidgets": {},
     "nuid": "afd20f43-4be2-467c-b92c-2f7635efb359",
     "showTitle": false,
     "tableResultSettingsMap": {},
     "title": ""
    }
   },
   "outputs": [],
   "source": []
  }
 ],
 "metadata": {
  "application/vnd.databricks.v1+notebook": {
   "computePreferences": null,
   "dashboards": [],
   "environmentMetadata": {
    "base_environment": "",
    "environment_version": "2"
   },
   "inputWidgetPreferences": null,
   "language": "python",
   "notebookMetadata": {
    "mostRecentlyExecutedCommandWithImplicitDF": {
     "commandId": 8386881828316305,
     "dataframes": [
      "_sqldf"
     ]
    },
    "pythonIndentUnit": 4
   },
   "notebookName": "scratch",
   "widgets": {}
  },
  "language_info": {
   "name": "python"
  }
 },
 "nbformat": 4,
 "nbformat_minor": 0
}
